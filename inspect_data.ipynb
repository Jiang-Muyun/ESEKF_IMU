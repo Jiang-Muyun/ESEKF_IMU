{
 "cells": [
  {
   "cell_type": "code",
   "execution_count": null,
   "metadata": {},
   "outputs": [],
   "source": [
    "import numpy as np\n",
    "import matplotlib.pyplot as plt"
   ]
  },
  {
   "cell_type": "code",
   "execution_count": null,
   "metadata": {},
   "outputs": [],
   "source": [
    "# imu format [t, w_m, a_m]\n",
    "# gt format [t tx ty tz qx qy qz qw]\n",
    "\n",
    "# imu_data = np.loadtxt('./data/imu_noise.txt')\n",
    "imu_data = np.loadtxt('./data/imu_noise_free.txt')\n",
    "gt_data = np.loadtxt('./data/traj_gt.txt')\n",
    "gt_out_data = np.loadtxt('./data/traj_gt_out.txt') # delete last 3 rows\n",
    "print(imu_data.shape, gt_data.shape, gt_out_data.shape)"
   ]
  },
  {
   "cell_type": "code",
   "execution_count": null,
   "metadata": {},
   "outputs": [],
   "source": [
    "imu_data = np.load('tmp/imu_still.npz')['imu_data']\n",
    "print(imu_data.shape)\n",
    "print(imu_data[:,1:].mean(0))\n",
    "\n",
    "fig = plt.figure(figsize=(12,5), dpi=100, facecolor='w', edgecolor='k')\n",
    "ax = plt.subplot(2,1,1)\n",
    "plt.plot(imu_data[:,1], label='1');plt.plot(imu_data[:,2], label='2');plt.plot(imu_data[:,3], label='3')\n",
    "plt.legend(loc='upper left')\n",
    "ax = plt.subplot(2,1,2)\n",
    "plt.plot(imu_data[:,4], label='4');plt.plot(imu_data[:,5], label='5');plt.plot(imu_data[:,6], label='6')\n",
    "plt.legend(loc='upper left')\n",
    "plt.show()"
   ]
  },
  {
   "cell_type": "code",
   "execution_count": null,
   "metadata": {},
   "outputs": [],
   "source": [
    "pose_data = np.load('tmp/pose.npz')['pose_data']\n",
    "print(pose_data.shape)\n",
    "\n",
    "fig = plt.figure(figsize=(12,5), dpi=100, facecolor='w', edgecolor='k')\n",
    "ax = plt.subplot(2,1,1)\n",
    "plt.plot(pose_data[:,0], label='x')\n",
    "plt.plot(pose_data[:,1], label='y')\n",
    "plt.plot(pose_data[:,2], label='z')\n",
    "plt.legend(loc='upper left')\n",
    "ax = plt.subplot(2,1,2)\n",
    "plt.plot(pose_data[:,3], label='roll')\n",
    "plt.plot(pose_data[:,4], label='pitch')\n",
    "plt.plot(pose_data[:,5], label='yaw')\n",
    "plt.legend(loc='upper left')\n",
    "plt.show()"
   ]
  },
  {
   "cell_type": "code",
   "execution_count": null,
   "metadata": {},
   "outputs": [],
   "source": []
  }
 ],
 "metadata": {
  "kernelspec": {
   "display_name": "Python 3",
   "language": "python",
   "name": "python3"
  },
  "language_info": {
   "codemirror_mode": {
    "name": "ipython",
    "version": 3
   },
   "file_extension": ".py",
   "mimetype": "text/x-python",
   "name": "python",
   "nbconvert_exporter": "python",
   "pygments_lexer": "ipython3",
   "version": "3.7.4"
  }
 },
 "nbformat": 4,
 "nbformat_minor": 4
}
